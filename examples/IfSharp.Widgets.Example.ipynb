{
 "cells": [
  {
   "cell_type": "code",
   "execution_count": 2,
   "metadata": {},
   "outputs": [],
   "source": [
    "#load \"Paket.fsx\"\n",
    "\n",
    "Paket.Package\n",
    "    [ \n",
    "        \"IfSharp.Widgets\"\n",
    "    ]\n"
   ]
  },
  {
   "cell_type": "code",
   "execution_count": 3,
   "metadata": {},
   "outputs": [
    {
     "data": {
      "application/javascript": [
       "var ifWidgetsScript = document.createElement(\"script\");\r\n",
       "ifWidgetsScript.type = \"text/javascript\";\r\n",
       "var ifWidgetsScriptBody = document.createTextNode(\"function ifWidgetsClick(objectId){callbacks = {};var content = {    code : objectId,    silent : true,    store_history : false,    user_expressions : {},    allow_stdin : false};IPython.notebook.kernel.send_shell_message(\\\"execute_request\\\", content, callbacks);}\");\r\n",
       "ifWidgetsScript.appendChild(ifWidgetsScriptBody);\r\n",
       "document.getElementsByTagName(\"head\")[0].appendChild(ifWidgetsScript);\r\n"
      ]
     },
     "metadata": {},
     "output_type": "display_data"
    }
   ],
   "source": [
    "#load \"packages\\IfSharp.Widgets\\IfSharpWidgets.fsx\""
   ]
  },
  {
   "cell_type": "code",
   "execution_count": 4,
   "metadata": {},
   "outputs": [],
   "source": [
    "open IfSharpWidgets"
   ]
  },
  {
   "cell_type": "code",
   "execution_count": 5,
   "metadata": {},
   "outputs": [],
   "source": [
    "let users = [\"Ivan\";\"Boris\";\"Moi\"]"
   ]
  },
  {
   "cell_type": "code",
   "execution_count": 6,
   "metadata": {},
   "outputs": [],
   "source": [
    "type UserMode = {Name:string; IsSelected: CheckBoxModel}"
   ]
  },
  {
   "cell_type": "code",
   "execution_count": 7,
   "metadata": {},
   "outputs": [],
   "source": [
    "let userModels = users |> List.map(fun name -> {Name=name; IsSelected= CheckBox(\"Select\", true)})"
   ]
  },
  {
   "cell_type": "code",
   "execution_count": 8,
   "metadata": {},
   "outputs": [
    {
     "data": {
      "text/html": [
       "<table><thead><tr><th>Name</th><th>IsSelected</th></tr></thead><tbody><tr><td>Ivan</td><td><input onclick=\"ifWidgetsClick(&quot;IfSharpWidgets.executeClickHandler \\&quot;db33f8b8-5a11-4040-98ce-19a5156b4a3e\\&quot;&quot;) \" type=\"checkbox\" checked>Select</button></td></tr><tr><td>Boris</td><td><input onclick=\"ifWidgetsClick(&quot;IfSharpWidgets.executeClickHandler \\&quot;8aa19ed0-91bf-4cf0-b421-9f7ba280b330\\&quot;&quot;) \" type=\"checkbox\" checked>Select</button></td></tr><tr><td>Moi</td><td><input onclick=\"ifWidgetsClick(&quot;IfSharpWidgets.executeClickHandler \\&quot;2e18291c-1721-4272-8b57-5dcbacc465a9\\&quot;&quot;) \" type=\"checkbox\" checked>Select</button></td></tr><tbody></tbody></table>"
      ]
     },
     "execution_count": 8,
     "metadata": {},
     "output_type": "execute_result"
    }
   ],
   "source": [
    "userModels |> Util.Table"
   ]
  },
  {
   "cell_type": "code",
   "execution_count": 9,
   "metadata": {},
   "outputs": [
    {
     "data": {
      "text/plain": [
       "User Ivan is selected\r\n",
       "User Moi is selected\r\n"
      ]
     },
     "metadata": {},
     "output_type": "display_data"
    }
   ],
   "source": [
    "userModels \n",
    "    |> Seq.filter(fun i -> i.IsSelected.Value)\n",
    "    |> Seq.iter(fun i -> printfn \"User %s is selected\" i.Name)"
   ]
  },
  {
   "cell_type": "code",
   "execution_count": null,
   "metadata": {},
   "outputs": [],
   "source": []
  }
 ],
 "metadata": {
  "kernelspec": {
   "display_name": "F#",
   "language": "fsharp",
   "name": "ifsharp"
  },
  "language": "fsharp",
  "language_info": {
   "codemirror_mode": "",
   "file_extension": ".fs",
   "mimetype": "text/x-fsharp",
   "name": "fsharp",
   "nbconvert_exporter": "",
   "pygments_lexer": "",
   "version": "4.3.1.0"
  }
 },
 "nbformat": 4,
 "nbformat_minor": 2
}
